{
 "cells": [
  {
   "cell_type": "markdown",
   "id": "4e1243c6",
   "metadata": {},
   "source": [
    "# Recursion"
   ]
  },
  {
   "cell_type": "code",
   "execution_count": 40,
   "id": "58033f47",
   "metadata": {},
   "outputs": [
    {
     "name": "stdout",
     "output_type": "stream",
     "text": [
      "120\n"
     ]
    }
   ],
   "source": [
    "#Recursion 1\n",
    "def factorial(n):\n",
    "    # Base Case\n",
    "    if n == 1:\n",
    "        return 1\n",
    "    else:\n",
    "        return n * factorial(n - 1)\n",
    "\n",
    "print(factorial(5))"
   ]
  },
  {
   "cell_type": "code",
   "execution_count": 41,
   "id": "73456918",
   "metadata": {},
   "outputs": [
    {
     "name": "stdout",
     "output_type": "stream",
     "text": [
      "1|2|5|10|"
     ]
    }
   ],
   "source": [
    "#Recursion 2\n",
    "def factors(n, i):\n",
    "    if i <= n:\n",
    "        if n % i == 0:\n",
    "            print(i, end=\"|\")\n",
    "        factors(n, i + 1)\n",
    "\n",
    "\n",
    "if __name__ == \"__main__\":\n",
    "    factors(10, 1)\n"
   ]
  },
  {
   "cell_type": "code",
   "execution_count": 42,
   "id": "92694b2d",
   "metadata": {},
   "outputs": [
    {
     "name": "stdout",
     "output_type": "stream",
     "text": [
      "[0, 1, 1, 2, 3, 5, 8, 13, 21, 34]\n"
     ]
    }
   ],
   "source": [
    "#Recursion 3\n",
    "def fibList(n):\n",
    "    \"\"\"\n",
    "    :return: Return Fibonacci List Upto N Number by Reursion\n",
    "    \"\"\"\n",
    "    if n <= 1:\n",
    "        return n\n",
    "    else:\n",
    "        return fibList(n - 1) + fibList(n - 2)\n",
    "\n",
    "\n",
    "n = 10\n",
    "fibList1 = [fibList(i) for i in range(n)]\n",
    "print(fibList1)\n"
   ]
  },
  {
   "cell_type": "code",
   "execution_count": null,
   "id": "e6b8ccb1",
   "metadata": {},
   "outputs": [],
   "source": [
    "#Recursion 4\n",
    "def fib(n):\n",
    "    \"\"\"\n",
    "    :return: n'th fibonacci Number\n",
    "    \"\"\"\n",
    "    if n == 0:\n",
    "        return 0\n",
    "    elif n == 1:\n",
    "        return 1\n",
    "    else:\n",
    "        return fib(n - 1) + fib(n - 2)\n",
    "\n",
    "\n",
    "print(fib(127))"
   ]
  },
  {
   "cell_type": "code",
   "execution_count": 2,
   "id": "4e455817",
   "metadata": {},
   "outputs": [
    {
     "name": "stdout",
     "output_type": "stream",
     "text": [
      "15\n"
     ]
    }
   ],
   "source": [
    "#Recursion 5\n",
    "def recusiveSum(number):\n",
    "    # Base Case\n",
    "    if number == 1:\n",
    "        return 1\n",
    "    else:\n",
    "        return number + recusiveSum(number - 1)\n",
    "\n",
    "\n",
    "print(recusiveSum(5))"
   ]
  },
  {
   "cell_type": "code",
   "execution_count": 3,
   "id": "85a58d41",
   "metadata": {},
   "outputs": [
    {
     "name": "stdout",
     "output_type": "stream",
     "text": [
      "Enter the  string: CDAC MUMBAI\n",
      "IABMUM CADC\n"
     ]
    }
   ],
   "source": [
    "#Recursion 6\n",
    "\"\"\"\n",
    "Title- Reversal of string : it will reverse any of type Character that you will provide\n",
    "\"\"\"\n",
    "# recursive function that reverses the string\n",
    "\n",
    "\n",
    "def rs(st, n):\n",
    "    if n > 0:\n",
    "        print(st[n], end=\"\")\n",
    "        rs(st, n - 1)\n",
    "    elif n == 0:\n",
    "        print(st[0])\n",
    "\n",
    "\n",
    "s = str(input(\"Enter the  string: \"))\n",
    "rs(s, len(s) - 1)"
   ]
  },
  {
   "cell_type": "markdown",
   "id": "5d53f4b2",
   "metadata": {},
   "source": [
    "# Arrays"
   ]
  },
  {
   "cell_type": "code",
   "execution_count": 28,
   "id": "33ba2d9a",
   "metadata": {},
   "outputs": [
    {
     "name": "stdout",
     "output_type": "stream",
     "text": [
      "2\n",
      "1\n",
      "200\n",
      "3\n",
      "4\n",
      "5\n",
      "1\n",
      "200\n",
      "3\n",
      "4\n",
      "5\n",
      "[1, 200]\n",
      "[1, 200, 3, 4, 5]\n",
      "[1, 200, 3, 4]\n",
      "200\n"
     ]
    }
   ],
   "source": [
    "# Arrays\n",
    "\n",
    "arr = [1,2,3,4,5]\n",
    "\n",
    "# Random Indexing -> O(1) complexity if we know index of\n",
    "# item to get fromm array\n",
    "print(arr[1])\n",
    "\n",
    "# Insert item at given index\n",
    "# Complexity O(N) to add item at given index\n",
    "arr[1] = 200\n",
    "# print(arr[1])\n",
    "\n",
    "# print all items in array\n",
    "for num in arr:\n",
    "    print(num)\n",
    "\n",
    "# print all items in array using index\n",
    "for i in range(len(arr)):\n",
    "    print(arr[i])\n",
    "\n",
    "# Print out items from starting to ending index\n",
    "print(arr[0:2])\n",
    "\n",
    "# Print out whole array\n",
    "print(arr[:])\n",
    "\n",
    "# Print out all items of array except last one\n",
    "print(arr[:-1])\n",
    "\n",
    "# Linear Search; O(N) time complexity\n",
    "# If we don't know index, we need to go through whole array sequentially\n",
    "maxim = arr[0]\n",
    "for num in arr:\n",
    "    if num > maxim:\n",
    "        maxim = num\n",
    "print(maxim)"
   ]
  },
  {
   "cell_type": "code",
   "execution_count": 13,
   "id": "8950e2b3",
   "metadata": {},
   "outputs": [
    {
     "name": "stdout",
     "output_type": "stream",
     "text": [
      "Enter max number: 21\n",
      "Odd numbers:  [1, 3, 5, 7, 9, 11, 13, 15, 17, 19]\n"
     ]
    }
   ],
   "source": [
    "# Max number of odd numbers\n",
    "\n",
    "max = int(input(\"Enter max number: \"))\n",
    "odd_numbers = []\n",
    "for i in range(1, max):\n",
    "    if i % 2 == 1:\n",
    "        odd_numbers.append(i)\n",
    "\n",
    "print(\"Odd numbers: \", odd_numbers)"
   ]
  },
  {
   "cell_type": "code",
   "execution_count": 23,
   "id": "8d886cca",
   "metadata": {},
   "outputs": [
    {
     "name": "stdout",
     "output_type": "stream",
     "text": [
      "input:  [1, 2, 3, 4, 5, 6, 7]\n",
      "expected:  [5, 6, 7, 1, 2, 3, 4]\n",
      "out:  [5, 6, 7, 1, 2, 3, 4]\n"
     ]
    }
   ],
   "source": [
    "#Array rotation\n",
    "\n",
    "def rotate(arr, k):\n",
    "    n = len(arr)\n",
    "    k = k % n\n",
    "    return arr[n - k:] + arr[:n - k]\n",
    "\n",
    "\n",
    "a = [1, 2, 3, 4, 5, 6, 7]\n",
    "print(\"input: \", a)\n",
    "print(\"expected: \", [5, 6, 7, 1, 2, 3, 4])\n",
    "print(\"out: \", rotate(a, 3))"
   ]
  },
  {
   "cell_type": "markdown",
   "id": "ce3b2df7",
   "metadata": {},
   "source": [
    "# Function to find the Duplicates"
   ]
  },
  {
   "cell_type": "code",
   "execution_count": 49,
   "id": "0824e436",
   "metadata": {},
   "outputs": [],
   "source": [
    "def findDuplicates(arr, Len):\n",
    "\n",
    "flag= False\n",
    "\n",
    "a1 = []\n",
    "for i in range(Len - 1):\n",
    "    for j in range(i + 1, Len):\n",
    "\n",
    "        if (arr[i] == arr[j]):\n",
    "            if arr[i] in a1:\n",
    "                break\n",
    "        else:\n",
    "            a1.append(arr[i])\n",
    "\t\t\tflag = True\n",
    "\n",
    "if (flag):\n",
    "\tprint(a1, end = \" \")\n",
    "else:\n",
    "\tprint(\"No duplicates present in arrays\")\n",
    "\n",
    "arr = [ 12, 11, 40, 12, 5, 6, 5, 12, 11 ]\n",
    "n = len(arr)\n",
    "\n",
    "findDuplicates(arr, n)\n",
    "\n",
    "# O(n*n)\n",
    "#Time Complexity: O(N2) \n",
    "#Auxiliary Space: O(N)"
   ]
  },
  {
   "cell_type": "code",
   "execution_count": null,
   "id": "7f702453",
   "metadata": {},
   "outputs": [],
   "source": [
    "# Method 2\n",
    "def printDuplicates(arr):\n",
    "dict = {}\n",
    "\n",
    "for ele in arr:\n",
    "\ttry:\n",
    "\t\tdict[ele] += 1\n",
    "\texcept:\n",
    "\t\tdict[ele] = 1\n",
    "\n",
    "for item in dict:\n",
    "\n",
    "\tif(dict[item] > 1):\n",
    "\t\tprint(item, end=\" \")\n",
    "\n",
    "print(\"\\n\")\n",
    "\n",
    "if __name__ == \"__main__\":\n",
    "list = [12, 11, 40, 12, 5, 6, 5, 12, 11]\n",
    "printDuplicates(list)\n",
    "\n",
    "# Time Complexity: O(N)\n",
    "# Auxiliary Space: O(N)   \n"
   ]
  },
  {
   "cell_type": "code",
   "execution_count": null,
   "id": "c724bd90",
   "metadata": {},
   "outputs": [],
   "source": [
    "#Method 3:\n",
    "def printDuplicates(arr, n):\n",
    "\tarr.sort() \n",
    "\n",
    "\tprint(\"[\", end=\"\")\n",
    "\n",
    "\ti = 0 \n",
    "\twhile i < n:\n",
    "\n",
    "\t\tfirst_index = arr.index(arr[i])\n",
    "\t\tlast_index = n - arr[::-1].index(arr[i]) - 1\n",
    "\n",
    "\t\toccur_time = last_index - first_index + 1 \n",
    "\n",
    "\t\tif occur_time > 1: \n",
    "\t\t\ti = last_index \n",
    "\t\t\tprint(arr[i], end=\", \") \n",
    "\n",
    "\t\ti += 1\n",
    "\tprint(\"]\") \n",
    "\n",
    "\n",
    "arr = [12, 11, 40, 12, 5, 6, 5, 12, 11]\n",
    "n = len(arr)\n",
    "\n",
    "printDuplicates(arr, n)\n",
    "\n",
    "#Time Complexity: O(n*log2n)\n",
    "#Auxiliary Space: O(1)"
   ]
  },
  {
   "cell_type": "markdown",
   "id": "43425686",
   "metadata": {},
   "source": [
    "# Linear search"
   ]
  },
  {
   "cell_type": "code",
   "execution_count": 10,
   "id": "2a883a6c",
   "metadata": {},
   "outputs": [
    {
     "name": "stdout",
     "output_type": "stream",
     "text": [
      "3\n",
      "-1\n"
     ]
    }
   ],
   "source": [
    "\"\"\"\n",
    "Problem Statement:\n",
    "Given a list of n elements with values and target element, find the index/position of the target in list.\n",
    "The linear search is a basic search algorithm which searches all the elements in the list and finds the required value. \n",
    "This is also known as sequential search.\n",
    "Time Complexity:\n",
    "Best Case: O(1)\n",
    "Average Case: O(n)\n",
    "Worst Case: O(n)\n",
    "\"\"\"\n",
    "def linearSearch(arr,target):\n",
    "    for i in range(len(arr)): \n",
    "        if arr[i] == target: \n",
    "            return i \n",
    "    return -1 \n",
    "\n",
    "a = [1,2,4,5,8]\n",
    "print(linearSearch(a,5)) \n",
    "print(linearSearch(a,9)) "
   ]
  },
  {
   "cell_type": "markdown",
   "id": "fd1a9ccb",
   "metadata": {},
   "source": [
    "# Binary Search"
   ]
  },
  {
   "cell_type": "code",
   "execution_count": 11,
   "id": "4bbe2ee2",
   "metadata": {},
   "outputs": [
    {
     "name": "stdout",
     "output_type": "stream",
     "text": [
      "3\n",
      "-1\n"
     ]
    }
   ],
   "source": [
    "\"\"\"\n",
    "Binary search is the most popular Search algorithm.It is efficient and also one of the most commonly used techniques \n",
    "that is used to solve problems.\n",
    "Binary search works only on a sorted set of elements. To use binary search on a collection, the collection must first be sorted.\n",
    "Binary search looks for a particular item by comparing the middle most item of the collection. If a match occurs, \n",
    "then the index of item is returned. If the middle item is greater than the item, then the item is searched in the sub-array \n",
    "to the left of the middle item. Otherwise, the item is searched for in the sub-array to the right of the middle item. \n",
    "This process continues on the sub-array as well until the size of the subarray reduces to zero.\n",
    "Time Complexity:\n",
    "Best Case O(1)\n",
    "Average Case O(log n)\n",
    "Worst Case O(log n)\n",
    "\"\"\"\n",
    "\n",
    "def BSearch(arr,target):\n",
    "    l = len(arr) - 1\n",
    "    start,end = 0,l \n",
    "    mid = (start+end)//2 \n",
    "    while start <= end:\n",
    "        if arr[mid] == target: \n",
    "            return mid \n",
    "        elif arr[mid] < target:\n",
    "            start = mid + 1\n",
    "        else:\n",
    "            end = mid - 1\n",
    "        mid = (start+end)//2\n",
    "    return -1\n",
    "    \n",
    "a = [1,2,4,5,8]\n",
    "print(binarySearch(a,5)) # it will return 3 as 5 is present at 3rd index\n",
    "print(binarySearch(a,9)) # it will return -1 since 9 is not present in the list"
   ]
  },
  {
   "cell_type": "code",
   "execution_count": null,
   "id": "b9571a40",
   "metadata": {},
   "outputs": [],
   "source": []
  }
 ],
 "metadata": {
  "kernelspec": {
   "display_name": "Python 3 (ipykernel)",
   "language": "python",
   "name": "python3"
  },
  "language_info": {
   "codemirror_mode": {
    "name": "ipython",
    "version": 3
   },
   "file_extension": ".py",
   "mimetype": "text/x-python",
   "name": "python",
   "nbconvert_exporter": "python",
   "pygments_lexer": "ipython3",
   "version": "3.9.7"
  }
 },
 "nbformat": 4,
 "nbformat_minor": 5
}
